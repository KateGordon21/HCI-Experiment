{
 "cells": [
  {
   "cell_type": "code",
   "execution_count": 5,
   "metadata": {},
   "outputs": [],
   "source": [
    "# import libraries\n",
    "import pandas as pd\n",
    "import math"
   ]
  },
  {
   "cell_type": "code",
   "execution_count": 27,
   "metadata": {},
   "outputs": [
    {
     "data": {
      "text/html": [
       "<div>\n",
       "<style scoped>\n",
       "    .dataframe tbody tr th:only-of-type {\n",
       "        vertical-align: middle;\n",
       "    }\n",
       "\n",
       "    .dataframe tbody tr th {\n",
       "        vertical-align: top;\n",
       "    }\n",
       "\n",
       "    .dataframe thead th {\n",
       "        text-align: right;\n",
       "    }\n",
       "</style>\n",
       "<table border=\"1\" class=\"dataframe\">\n",
       "  <thead>\n",
       "    <tr style=\"text-align: right;\">\n",
       "      <th></th>\n",
       "      <th>size</th>\n",
       "      <th>distance</th>\n",
       "      <th>direction</th>\n",
       "      <th>time</th>\n",
       "      <th>errors</th>\n",
       "    </tr>\n",
       "  </thead>\n",
       "  <tbody>\n",
       "    <tr>\n",
       "      <th>count</th>\n",
       "      <td>4196.000000</td>\n",
       "      <td>4196.000000</td>\n",
       "      <td>4196.000000</td>\n",
       "      <td>4.196000e+03</td>\n",
       "      <td>4196.000000</td>\n",
       "    </tr>\n",
       "    <tr>\n",
       "      <th>mean</th>\n",
       "      <td>74.995234</td>\n",
       "      <td>188.512869</td>\n",
       "      <td>0.010963</td>\n",
       "      <td>3.664359e+06</td>\n",
       "      <td>0.069590</td>\n",
       "    </tr>\n",
       "    <tr>\n",
       "      <th>std</th>\n",
       "      <td>53.762600</td>\n",
       "      <td>134.489119</td>\n",
       "      <td>1.000059</td>\n",
       "      <td>7.904599e+07</td>\n",
       "      <td>0.279485</td>\n",
       "    </tr>\n",
       "    <tr>\n",
       "      <th>min</th>\n",
       "      <td>20.000000</td>\n",
       "      <td>50.000000</td>\n",
       "      <td>-1.000000</td>\n",
       "      <td>3.023541e-01</td>\n",
       "      <td>0.000000</td>\n",
       "    </tr>\n",
       "    <tr>\n",
       "      <th>25%</th>\n",
       "      <td>20.000000</td>\n",
       "      <td>100.000000</td>\n",
       "      <td>-1.000000</td>\n",
       "      <td>6.227365e-01</td>\n",
       "      <td>0.000000</td>\n",
       "    </tr>\n",
       "    <tr>\n",
       "      <th>50%</th>\n",
       "      <td>40.000000</td>\n",
       "      <td>200.000000</td>\n",
       "      <td>1.000000</td>\n",
       "      <td>8.162060e-01</td>\n",
       "      <td>0.000000</td>\n",
       "    </tr>\n",
       "    <tr>\n",
       "      <th>75%</th>\n",
       "      <td>160.000000</td>\n",
       "      <td>400.000000</td>\n",
       "      <td>1.000000</td>\n",
       "      <td>1.029452e+00</td>\n",
       "      <td>0.000000</td>\n",
       "    </tr>\n",
       "    <tr>\n",
       "      <th>max</th>\n",
       "      <td>160.000000</td>\n",
       "      <td>400.000000</td>\n",
       "      <td>1.000000</td>\n",
       "      <td>1.708408e+09</td>\n",
       "      <td>5.000000</td>\n",
       "    </tr>\n",
       "  </tbody>\n",
       "</table>\n",
       "</div>"
      ],
      "text/plain": [
       "              size     distance    direction          time       errors\n",
       "count  4196.000000  4196.000000  4196.000000  4.196000e+03  4196.000000\n",
       "mean     74.995234   188.512869     0.010963  3.664359e+06     0.069590\n",
       "std      53.762600   134.489119     1.000059  7.904599e+07     0.279485\n",
       "min      20.000000    50.000000    -1.000000  3.023541e-01     0.000000\n",
       "25%      20.000000   100.000000    -1.000000  6.227365e-01     0.000000\n",
       "50%      40.000000   200.000000     1.000000  8.162060e-01     0.000000\n",
       "75%     160.000000   400.000000     1.000000  1.029452e+00     0.000000\n",
       "max     160.000000   400.000000     1.000000  1.708408e+09     5.000000"
      ]
     },
     "execution_count": 27,
     "metadata": {},
     "output_type": "execute_result"
    }
   ],
   "source": [
    "# import data\n",
    "headers = ['size', 'distance', 'direction', 'time', 'errors']\n",
    "participant_1 = pd.read_csv('data/participant1.csv', names=headers)\n",
    "participant_6 = pd.read_csv('data/participant6.csv', names=headers)\n",
    "participant_7 = pd.read_csv('data/participant7.csv', names=headers)\n",
    "participant_16 = pd.read_csv('data/participant16.csv', names=headers)\n",
    "participant_21 = pd.read_csv('data/participant21.csv', names=headers)\n",
    "participant_25 = pd.read_csv('data/participant25.csv', names=headers)\n",
    "participant_69 = pd.read_csv('data/participant69.csv', names=headers)\n",
    "participant_420 = pd.read_csv('data/participant420.csv', names=headers)\n",
    "participant_1123 = pd.read_csv('data/participant1123.csv', names=headers)\n",
    "participant_2003 = pd.read_csv('data/participant2003.csv', names=headers)\n",
    "participant_2804 = pd.read_csv('data/participant2804.csv', names=headers)\n",
    "participant_6904 = pd.read_csv('data/participant6904.csv', names=headers)\n",
    "participant_149025 = pd.read_csv('data/participant149025.csv', names=headers)\n",
    "participant_8008504 = pd.read_csv('data/participant8008504.csv', names=headers)\n",
    "\n",
    "participants = [participant_1, participant_6, participant_7, participant_16, participant_21, participant_25, participant_69, participant_1123, participant_2003, participant_2804, participant_6904, participant_149025, participant_8008504]\n",
    "\n",
    "# combine data\n",
    "data = pd.concat([participant_1, participant_6, participant_7, participant_16, participant_21, participant_25, participant_69, participant_1123, participant_2003, participant_2804, participant_6904, participant_149025, participant_8008504])\n",
    "\n",
    "data.describe()\n",
    "        "
   ]
  },
  {
   "cell_type": "code",
   "execution_count": null,
   "metadata": {},
   "outputs": [],
   "source": [
    "# remove outliers\n",
    "data = data[data['time'] < 5]\n",
    "\n",
    "# Calculate the upper limit\n",
    "upper_limit = data['time'].quantile(0.95)\n",
    "\n",
    "# Filter the dataframe\n",
    "data = data[data['time'] < upper_limit]\n"
   ]
  },
  {
   "cell_type": "code",
   "execution_count": null,
   "metadata": {},
   "outputs": [
    {
     "ename": "NameError",
     "evalue": "name 'data' is not defined",
     "output_type": "error",
     "traceback": [
      "\u001b[1;31m---------------------------------------------------------------------------\u001b[0m",
      "\u001b[1;31mNameError\u001b[0m                                 Traceback (most recent call last)",
      "Cell \u001b[1;32mIn[2], line 2\u001b[0m\n\u001b[0;32m      1\u001b[0m separated_data \u001b[38;5;241m=\u001b[39m {}\n\u001b[1;32m----> 2\u001b[0m \u001b[38;5;28;01mfor\u001b[39;00m val1 \u001b[38;5;129;01min\u001b[39;00m data[\u001b[38;5;124m'\u001b[39m\u001b[38;5;124msize\u001b[39m\u001b[38;5;124m'\u001b[39m]\u001b[38;5;241m.\u001b[39munique():\n\u001b[0;32m      3\u001b[0m     \u001b[38;5;28;01mfor\u001b[39;00m val2 \u001b[38;5;129;01min\u001b[39;00m data[\u001b[38;5;124m'\u001b[39m\u001b[38;5;124mdistance\u001b[39m\u001b[38;5;124m'\u001b[39m]\u001b[38;5;241m.\u001b[39munique():\n\u001b[0;32m      4\u001b[0m         separated_data[(\u001b[38;5;28mint\u001b[39m(val1), \u001b[38;5;28mint\u001b[39m(val2))] \u001b[38;5;241m=\u001b[39m data[(data[\u001b[38;5;124m'\u001b[39m\u001b[38;5;124msize\u001b[39m\u001b[38;5;124m'\u001b[39m] \u001b[38;5;241m==\u001b[39m val1) \u001b[38;5;241m&\u001b[39m (data[\u001b[38;5;124m'\u001b[39m\u001b[38;5;124mdistance\u001b[39m\u001b[38;5;124m'\u001b[39m] \u001b[38;5;241m==\u001b[39m val2)]\n",
      "\u001b[1;31mNameError\u001b[0m: name 'data' is not defined"
     ]
    }
   ],
   "source": [
    "separated_data = {}\n",
    "for val1 in data['size'].unique():\n",
    "    for val2 in data['distance'].unique():\n",
    "        separated_data[(int(val1), int(val2))] = data[(data['size'] == val1) & (data['distance'] == val2)]\n",
    "\n",
    "for key in separated_data:\n",
    "    print(f\"Size: {key[0]}\\nDistance: {key[1]}\")\n",
    "    print(f\"Index of Difficulty: {index_of_difficulty(key)}\")\n",
    "    print(f\"Mean time: {separated_data[key]['time'].mean()}\")\n",
    "    print(f\"Standard deviation: {separated_data[key]['time'].std()}\")\n",
    "    print(\"\\n\")"
   ]
  },
  {
   "cell_type": "code",
   "execution_count": null,
   "metadata": {},
   "outputs": [],
   "source": [
    "# calculate index of difficulty\n",
    "def index_of_difficulty(size: int, distance: int) -> float:\n",
    "    return math.ceil(math.log2(distance / size) + 1)\n",
    "\n",
    "def index_of_difficulty(key: tuple) -> float:\n",
    "    return index_of_difficulty(key[0], key[1])"
   ]
  },
  {
   "cell_type": "code",
   "execution_count": null,
   "metadata": {},
   "outputs": [],
   "source": []
  }
 ],
 "metadata": {
  "kernelspec": {
   "display_name": ".venv",
   "language": "python",
   "name": "python3"
  },
  "language_info": {
   "codemirror_mode": {
    "name": "ipython",
    "version": 3
   },
   "file_extension": ".py",
   "mimetype": "text/x-python",
   "name": "python",
   "nbconvert_exporter": "python",
   "pygments_lexer": "ipython3",
   "version": "3.11.7"
  }
 },
 "nbformat": 4,
 "nbformat_minor": 2
}
